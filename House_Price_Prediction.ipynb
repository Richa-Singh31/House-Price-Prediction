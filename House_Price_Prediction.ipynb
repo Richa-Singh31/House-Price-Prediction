{
 "cells": [
  {
   "cell_type": "markdown",
   "metadata": {},
   "source": [
    "# Importing necessary libraries"
   ]
  },
  {
   "cell_type": "code",
   "execution_count": 4,
   "metadata": {
    "execution": {
     "iopub.execute_input": "2024-05-25T09:53:39.500404Z",
     "iopub.status.busy": "2024-05-25T09:53:39.499834Z",
     "iopub.status.idle": "2024-05-25T09:53:39.510100Z",
     "shell.execute_reply": "2024-05-25T09:53:39.507977Z",
     "shell.execute_reply.started": "2024-05-25T09:53:39.500367Z"
    }
   },
   "outputs": [],
   "source": [
    "import numpy as np\n",
    "import pandas as pd \n",
    "import matplotlib.pyplot as plt\n",
    "from sklearn.pipeline import Pipeline\n",
    "from sklearn.preprocessing import StandardScaler\n",
    "from sklearn.linear_model import LinearRegression, Ridge, Lasso, ElasticNet\n",
    "from sklearn.model_selection import train_test_split\n",
    "from sklearn.model_selection import GridSearchCV\n",
    "from sklearn.compose import ColumnTransformer\n",
    "from sklearn.compose import TransformedTargetRegressor\n",
    "from category_encoders import TargetEncoder"
   ]
  },
  {
   "cell_type": "markdown",
   "metadata": {},
   "source": [
    "# Read and explore the data"
   ]
  },
  {
   "cell_type": "code",
   "execution_count": 8,
   "metadata": {
    "execution": {
     "iopub.execute_input": "2024-05-25T09:53:39.513542Z",
     "iopub.status.busy": "2024-05-25T09:53:39.513055Z",
     "iopub.status.idle": "2024-05-25T09:53:39.568521Z",
     "shell.execute_reply": "2024-05-25T09:53:39.567233Z",
     "shell.execute_reply.started": "2024-05-25T09:53:39.513504Z"
    }
   },
   "outputs": [
    {
     "data": {
      "text/html": [
       "<div>\n",
       "<style scoped>\n",
       "    .dataframe tbody tr th:only-of-type {\n",
       "        vertical-align: middle;\n",
       "    }\n",
       "\n",
       "    .dataframe tbody tr th {\n",
       "        vertical-align: top;\n",
       "    }\n",
       "\n",
       "    .dataframe thead th {\n",
       "        text-align: right;\n",
       "    }\n",
       "</style>\n",
       "<table border=\"1\" class=\"dataframe\">\n",
       "  <thead>\n",
       "    <tr style=\"text-align: right;\">\n",
       "      <th></th>\n",
       "      <th>date</th>\n",
       "      <th>price</th>\n",
       "      <th>bedrooms</th>\n",
       "      <th>bathrooms</th>\n",
       "      <th>sqft_living</th>\n",
       "      <th>sqft_lot</th>\n",
       "      <th>floors</th>\n",
       "      <th>waterfront</th>\n",
       "      <th>view</th>\n",
       "      <th>condition</th>\n",
       "      <th>sqft_above</th>\n",
       "      <th>sqft_basement</th>\n",
       "      <th>yr_built</th>\n",
       "      <th>yr_renovated</th>\n",
       "      <th>street</th>\n",
       "      <th>city</th>\n",
       "      <th>statezip</th>\n",
       "      <th>country</th>\n",
       "    </tr>\n",
       "  </thead>\n",
       "  <tbody>\n",
       "    <tr>\n",
       "      <th>0</th>\n",
       "      <td>2014-05-02 00:00:00</td>\n",
       "      <td>313000.0</td>\n",
       "      <td>3.0</td>\n",
       "      <td>1.50</td>\n",
       "      <td>1340</td>\n",
       "      <td>7912</td>\n",
       "      <td>1.5</td>\n",
       "      <td>0</td>\n",
       "      <td>0</td>\n",
       "      <td>3</td>\n",
       "      <td>1340</td>\n",
       "      <td>0</td>\n",
       "      <td>1955</td>\n",
       "      <td>2005</td>\n",
       "      <td>18810 Densmore Ave N</td>\n",
       "      <td>Shoreline</td>\n",
       "      <td>WA 98133</td>\n",
       "      <td>USA</td>\n",
       "    </tr>\n",
       "    <tr>\n",
       "      <th>1</th>\n",
       "      <td>2014-05-02 00:00:00</td>\n",
       "      <td>2384000.0</td>\n",
       "      <td>5.0</td>\n",
       "      <td>2.50</td>\n",
       "      <td>3650</td>\n",
       "      <td>9050</td>\n",
       "      <td>2.0</td>\n",
       "      <td>0</td>\n",
       "      <td>4</td>\n",
       "      <td>5</td>\n",
       "      <td>3370</td>\n",
       "      <td>280</td>\n",
       "      <td>1921</td>\n",
       "      <td>0</td>\n",
       "      <td>709 W Blaine St</td>\n",
       "      <td>Seattle</td>\n",
       "      <td>WA 98119</td>\n",
       "      <td>USA</td>\n",
       "    </tr>\n",
       "    <tr>\n",
       "      <th>2</th>\n",
       "      <td>2014-05-02 00:00:00</td>\n",
       "      <td>342000.0</td>\n",
       "      <td>3.0</td>\n",
       "      <td>2.00</td>\n",
       "      <td>1930</td>\n",
       "      <td>11947</td>\n",
       "      <td>1.0</td>\n",
       "      <td>0</td>\n",
       "      <td>0</td>\n",
       "      <td>4</td>\n",
       "      <td>1930</td>\n",
       "      <td>0</td>\n",
       "      <td>1966</td>\n",
       "      <td>0</td>\n",
       "      <td>26206-26214 143rd Ave SE</td>\n",
       "      <td>Kent</td>\n",
       "      <td>WA 98042</td>\n",
       "      <td>USA</td>\n",
       "    </tr>\n",
       "    <tr>\n",
       "      <th>3</th>\n",
       "      <td>2014-05-02 00:00:00</td>\n",
       "      <td>420000.0</td>\n",
       "      <td>3.0</td>\n",
       "      <td>2.25</td>\n",
       "      <td>2000</td>\n",
       "      <td>8030</td>\n",
       "      <td>1.0</td>\n",
       "      <td>0</td>\n",
       "      <td>0</td>\n",
       "      <td>4</td>\n",
       "      <td>1000</td>\n",
       "      <td>1000</td>\n",
       "      <td>1963</td>\n",
       "      <td>0</td>\n",
       "      <td>857 170th Pl NE</td>\n",
       "      <td>Bellevue</td>\n",
       "      <td>WA 98008</td>\n",
       "      <td>USA</td>\n",
       "    </tr>\n",
       "    <tr>\n",
       "      <th>4</th>\n",
       "      <td>2014-05-02 00:00:00</td>\n",
       "      <td>550000.0</td>\n",
       "      <td>4.0</td>\n",
       "      <td>2.50</td>\n",
       "      <td>1940</td>\n",
       "      <td>10500</td>\n",
       "      <td>1.0</td>\n",
       "      <td>0</td>\n",
       "      <td>0</td>\n",
       "      <td>4</td>\n",
       "      <td>1140</td>\n",
       "      <td>800</td>\n",
       "      <td>1976</td>\n",
       "      <td>1992</td>\n",
       "      <td>9105 170th Ave NE</td>\n",
       "      <td>Redmond</td>\n",
       "      <td>WA 98052</td>\n",
       "      <td>USA</td>\n",
       "    </tr>\n",
       "  </tbody>\n",
       "</table>\n",
       "</div>"
      ],
      "text/plain": [
       "                  date      price  bedrooms  bathrooms  sqft_living  sqft_lot  \\\n",
       "0  2014-05-02 00:00:00   313000.0       3.0       1.50         1340      7912   \n",
       "1  2014-05-02 00:00:00  2384000.0       5.0       2.50         3650      9050   \n",
       "2  2014-05-02 00:00:00   342000.0       3.0       2.00         1930     11947   \n",
       "3  2014-05-02 00:00:00   420000.0       3.0       2.25         2000      8030   \n",
       "4  2014-05-02 00:00:00   550000.0       4.0       2.50         1940     10500   \n",
       "\n",
       "   floors  waterfront  view  condition  sqft_above  sqft_basement  yr_built  \\\n",
       "0     1.5           0     0          3        1340              0      1955   \n",
       "1     2.0           0     4          5        3370            280      1921   \n",
       "2     1.0           0     0          4        1930              0      1966   \n",
       "3     1.0           0     0          4        1000           1000      1963   \n",
       "4     1.0           0     0          4        1140            800      1976   \n",
       "\n",
       "   yr_renovated                    street       city  statezip country  \n",
       "0          2005      18810 Densmore Ave N  Shoreline  WA 98133     USA  \n",
       "1             0           709 W Blaine St    Seattle  WA 98119     USA  \n",
       "2             0  26206-26214 143rd Ave SE       Kent  WA 98042     USA  \n",
       "3             0           857 170th Pl NE   Bellevue  WA 98008     USA  \n",
       "4          1992         9105 170th Ave NE    Redmond  WA 98052     USA  "
      ]
     },
     "execution_count": 8,
     "metadata": {},
     "output_type": "execute_result"
    }
   ],
   "source": [
    "df = pd.read_csv(\"data.csv\")\n",
    "df.head()"
   ]
  },
  {
   "cell_type": "markdown",
   "metadata": {},
   "source": [
    "## date would not have any correlation with the target"
   ]
  },
  {
   "cell_type": "code",
   "execution_count": 9,
   "metadata": {
    "execution": {
     "iopub.execute_input": "2024-05-25T09:53:39.572096Z",
     "iopub.status.busy": "2024-05-25T09:53:39.570661Z",
     "iopub.status.idle": "2024-05-25T09:53:39.603277Z",
     "shell.execute_reply": "2024-05-25T09:53:39.601298Z",
     "shell.execute_reply.started": "2024-05-25T09:53:39.572046Z"
    }
   },
   "outputs": [
    {
     "data": {
      "text/html": [
       "<div>\n",
       "<style scoped>\n",
       "    .dataframe tbody tr th:only-of-type {\n",
       "        vertical-align: middle;\n",
       "    }\n",
       "\n",
       "    .dataframe tbody tr th {\n",
       "        vertical-align: top;\n",
       "    }\n",
       "\n",
       "    .dataframe thead th {\n",
       "        text-align: right;\n",
       "    }\n",
       "</style>\n",
       "<table border=\"1\" class=\"dataframe\">\n",
       "  <thead>\n",
       "    <tr style=\"text-align: right;\">\n",
       "      <th></th>\n",
       "      <th>price</th>\n",
       "      <th>bedrooms</th>\n",
       "      <th>bathrooms</th>\n",
       "      <th>sqft_living</th>\n",
       "      <th>sqft_lot</th>\n",
       "      <th>floors</th>\n",
       "      <th>waterfront</th>\n",
       "      <th>view</th>\n",
       "      <th>condition</th>\n",
       "      <th>sqft_above</th>\n",
       "      <th>sqft_basement</th>\n",
       "      <th>yr_built</th>\n",
       "      <th>yr_renovated</th>\n",
       "      <th>street</th>\n",
       "      <th>city</th>\n",
       "      <th>statezip</th>\n",
       "      <th>country</th>\n",
       "    </tr>\n",
       "  </thead>\n",
       "  <tbody>\n",
       "    <tr>\n",
       "      <th>0</th>\n",
       "      <td>313000.0</td>\n",
       "      <td>3.0</td>\n",
       "      <td>1.50</td>\n",
       "      <td>1340</td>\n",
       "      <td>7912</td>\n",
       "      <td>1.5</td>\n",
       "      <td>0</td>\n",
       "      <td>0</td>\n",
       "      <td>3</td>\n",
       "      <td>1340</td>\n",
       "      <td>0</td>\n",
       "      <td>1955</td>\n",
       "      <td>2005</td>\n",
       "      <td>18810 Densmore Ave N</td>\n",
       "      <td>Shoreline</td>\n",
       "      <td>WA 98133</td>\n",
       "      <td>USA</td>\n",
       "    </tr>\n",
       "    <tr>\n",
       "      <th>1</th>\n",
       "      <td>2384000.0</td>\n",
       "      <td>5.0</td>\n",
       "      <td>2.50</td>\n",
       "      <td>3650</td>\n",
       "      <td>9050</td>\n",
       "      <td>2.0</td>\n",
       "      <td>0</td>\n",
       "      <td>4</td>\n",
       "      <td>5</td>\n",
       "      <td>3370</td>\n",
       "      <td>280</td>\n",
       "      <td>1921</td>\n",
       "      <td>0</td>\n",
       "      <td>709 W Blaine St</td>\n",
       "      <td>Seattle</td>\n",
       "      <td>WA 98119</td>\n",
       "      <td>USA</td>\n",
       "    </tr>\n",
       "    <tr>\n",
       "      <th>2</th>\n",
       "      <td>342000.0</td>\n",
       "      <td>3.0</td>\n",
       "      <td>2.00</td>\n",
       "      <td>1930</td>\n",
       "      <td>11947</td>\n",
       "      <td>1.0</td>\n",
       "      <td>0</td>\n",
       "      <td>0</td>\n",
       "      <td>4</td>\n",
       "      <td>1930</td>\n",
       "      <td>0</td>\n",
       "      <td>1966</td>\n",
       "      <td>0</td>\n",
       "      <td>26206-26214 143rd Ave SE</td>\n",
       "      <td>Kent</td>\n",
       "      <td>WA 98042</td>\n",
       "      <td>USA</td>\n",
       "    </tr>\n",
       "    <tr>\n",
       "      <th>3</th>\n",
       "      <td>420000.0</td>\n",
       "      <td>3.0</td>\n",
       "      <td>2.25</td>\n",
       "      <td>2000</td>\n",
       "      <td>8030</td>\n",
       "      <td>1.0</td>\n",
       "      <td>0</td>\n",
       "      <td>0</td>\n",
       "      <td>4</td>\n",
       "      <td>1000</td>\n",
       "      <td>1000</td>\n",
       "      <td>1963</td>\n",
       "      <td>0</td>\n",
       "      <td>857 170th Pl NE</td>\n",
       "      <td>Bellevue</td>\n",
       "      <td>WA 98008</td>\n",
       "      <td>USA</td>\n",
       "    </tr>\n",
       "    <tr>\n",
       "      <th>4</th>\n",
       "      <td>550000.0</td>\n",
       "      <td>4.0</td>\n",
       "      <td>2.50</td>\n",
       "      <td>1940</td>\n",
       "      <td>10500</td>\n",
       "      <td>1.0</td>\n",
       "      <td>0</td>\n",
       "      <td>0</td>\n",
       "      <td>4</td>\n",
       "      <td>1140</td>\n",
       "      <td>800</td>\n",
       "      <td>1976</td>\n",
       "      <td>1992</td>\n",
       "      <td>9105 170th Ave NE</td>\n",
       "      <td>Redmond</td>\n",
       "      <td>WA 98052</td>\n",
       "      <td>USA</td>\n",
       "    </tr>\n",
       "  </tbody>\n",
       "</table>\n",
       "</div>"
      ],
      "text/plain": [
       "       price  bedrooms  bathrooms  sqft_living  sqft_lot  floors  waterfront  \\\n",
       "0   313000.0       3.0       1.50         1340      7912     1.5           0   \n",
       "1  2384000.0       5.0       2.50         3650      9050     2.0           0   \n",
       "2   342000.0       3.0       2.00         1930     11947     1.0           0   \n",
       "3   420000.0       3.0       2.25         2000      8030     1.0           0   \n",
       "4   550000.0       4.0       2.50         1940     10500     1.0           0   \n",
       "\n",
       "   view  condition  sqft_above  sqft_basement  yr_built  yr_renovated  \\\n",
       "0     0          3        1340              0      1955          2005   \n",
       "1     4          5        3370            280      1921             0   \n",
       "2     0          4        1930              0      1966             0   \n",
       "3     0          4        1000           1000      1963             0   \n",
       "4     0          4        1140            800      1976          1992   \n",
       "\n",
       "                     street       city  statezip country  \n",
       "0      18810 Densmore Ave N  Shoreline  WA 98133     USA  \n",
       "1           709 W Blaine St    Seattle  WA 98119     USA  \n",
       "2  26206-26214 143rd Ave SE       Kent  WA 98042     USA  \n",
       "3           857 170th Pl NE   Bellevue  WA 98008     USA  \n",
       "4         9105 170th Ave NE    Redmond  WA 98052     USA  "
      ]
     },
     "execution_count": 9,
     "metadata": {},
     "output_type": "execute_result"
    }
   ],
   "source": [
    "df = df.drop(\"date\", axis=1 )\n",
    "df.head()"
   ]
  },
  {
   "cell_type": "code",
   "execution_count": 10,
   "metadata": {
    "execution": {
     "iopub.execute_input": "2024-05-25T09:53:39.607923Z",
     "iopub.status.busy": "2024-05-25T09:53:39.607371Z",
     "iopub.status.idle": "2024-05-25T09:53:39.617511Z",
     "shell.execute_reply": "2024-05-25T09:53:39.615979Z",
     "shell.execute_reply.started": "2024-05-25T09:53:39.607886Z"
    }
   },
   "outputs": [
    {
     "data": {
      "text/plain": [
       "(4600, 17)"
      ]
     },
     "execution_count": 10,
     "metadata": {},
     "output_type": "execute_result"
    }
   ],
   "source": [
    "df.shape"
   ]
  },
  {
   "cell_type": "code",
   "execution_count": 11,
   "metadata": {
    "execution": {
     "iopub.execute_input": "2024-05-25T09:53:39.620824Z",
     "iopub.status.busy": "2024-05-25T09:53:39.620231Z",
     "iopub.status.idle": "2024-05-25T09:53:39.632601Z",
     "shell.execute_reply": "2024-05-25T09:53:39.631472Z",
     "shell.execute_reply.started": "2024-05-25T09:53:39.620773Z"
    }
   },
   "outputs": [
    {
     "data": {
      "text/plain": [
       "USA    4600\n",
       "Name: country, dtype: int64"
      ]
     },
     "execution_count": 11,
     "metadata": {},
     "output_type": "execute_result"
    }
   ],
   "source": [
    "df[\"country\"].value_counts()"
   ]
  },
  {
   "cell_type": "markdown",
   "metadata": {},
   "source": [
    "## Country does not have useful data"
   ]
  },
  {
   "cell_type": "code",
   "execution_count": 12,
   "metadata": {
    "execution": {
     "iopub.execute_input": "2024-05-25T09:53:39.634242Z",
     "iopub.status.busy": "2024-05-25T09:53:39.633871Z",
     "iopub.status.idle": "2024-05-25T09:53:39.665754Z",
     "shell.execute_reply": "2024-05-25T09:53:39.664185Z",
     "shell.execute_reply.started": "2024-05-25T09:53:39.634212Z"
    }
   },
   "outputs": [
    {
     "data": {
      "text/html": [
       "<div>\n",
       "<style scoped>\n",
       "    .dataframe tbody tr th:only-of-type {\n",
       "        vertical-align: middle;\n",
       "    }\n",
       "\n",
       "    .dataframe tbody tr th {\n",
       "        vertical-align: top;\n",
       "    }\n",
       "\n",
       "    .dataframe thead th {\n",
       "        text-align: right;\n",
       "    }\n",
       "</style>\n",
       "<table border=\"1\" class=\"dataframe\">\n",
       "  <thead>\n",
       "    <tr style=\"text-align: right;\">\n",
       "      <th></th>\n",
       "      <th>price</th>\n",
       "      <th>bedrooms</th>\n",
       "      <th>bathrooms</th>\n",
       "      <th>sqft_living</th>\n",
       "      <th>sqft_lot</th>\n",
       "      <th>floors</th>\n",
       "      <th>waterfront</th>\n",
       "      <th>view</th>\n",
       "      <th>condition</th>\n",
       "      <th>sqft_above</th>\n",
       "      <th>sqft_basement</th>\n",
       "      <th>yr_built</th>\n",
       "      <th>yr_renovated</th>\n",
       "      <th>street</th>\n",
       "      <th>city</th>\n",
       "      <th>statezip</th>\n",
       "    </tr>\n",
       "  </thead>\n",
       "  <tbody>\n",
       "    <tr>\n",
       "      <th>0</th>\n",
       "      <td>313000.0</td>\n",
       "      <td>3.0</td>\n",
       "      <td>1.50</td>\n",
       "      <td>1340</td>\n",
       "      <td>7912</td>\n",
       "      <td>1.5</td>\n",
       "      <td>0</td>\n",
       "      <td>0</td>\n",
       "      <td>3</td>\n",
       "      <td>1340</td>\n",
       "      <td>0</td>\n",
       "      <td>1955</td>\n",
       "      <td>2005</td>\n",
       "      <td>18810 Densmore Ave N</td>\n",
       "      <td>Shoreline</td>\n",
       "      <td>WA 98133</td>\n",
       "    </tr>\n",
       "    <tr>\n",
       "      <th>1</th>\n",
       "      <td>2384000.0</td>\n",
       "      <td>5.0</td>\n",
       "      <td>2.50</td>\n",
       "      <td>3650</td>\n",
       "      <td>9050</td>\n",
       "      <td>2.0</td>\n",
       "      <td>0</td>\n",
       "      <td>4</td>\n",
       "      <td>5</td>\n",
       "      <td>3370</td>\n",
       "      <td>280</td>\n",
       "      <td>1921</td>\n",
       "      <td>0</td>\n",
       "      <td>709 W Blaine St</td>\n",
       "      <td>Seattle</td>\n",
       "      <td>WA 98119</td>\n",
       "    </tr>\n",
       "    <tr>\n",
       "      <th>2</th>\n",
       "      <td>342000.0</td>\n",
       "      <td>3.0</td>\n",
       "      <td>2.00</td>\n",
       "      <td>1930</td>\n",
       "      <td>11947</td>\n",
       "      <td>1.0</td>\n",
       "      <td>0</td>\n",
       "      <td>0</td>\n",
       "      <td>4</td>\n",
       "      <td>1930</td>\n",
       "      <td>0</td>\n",
       "      <td>1966</td>\n",
       "      <td>0</td>\n",
       "      <td>26206-26214 143rd Ave SE</td>\n",
       "      <td>Kent</td>\n",
       "      <td>WA 98042</td>\n",
       "    </tr>\n",
       "    <tr>\n",
       "      <th>3</th>\n",
       "      <td>420000.0</td>\n",
       "      <td>3.0</td>\n",
       "      <td>2.25</td>\n",
       "      <td>2000</td>\n",
       "      <td>8030</td>\n",
       "      <td>1.0</td>\n",
       "      <td>0</td>\n",
       "      <td>0</td>\n",
       "      <td>4</td>\n",
       "      <td>1000</td>\n",
       "      <td>1000</td>\n",
       "      <td>1963</td>\n",
       "      <td>0</td>\n",
       "      <td>857 170th Pl NE</td>\n",
       "      <td>Bellevue</td>\n",
       "      <td>WA 98008</td>\n",
       "    </tr>\n",
       "    <tr>\n",
       "      <th>4</th>\n",
       "      <td>550000.0</td>\n",
       "      <td>4.0</td>\n",
       "      <td>2.50</td>\n",
       "      <td>1940</td>\n",
       "      <td>10500</td>\n",
       "      <td>1.0</td>\n",
       "      <td>0</td>\n",
       "      <td>0</td>\n",
       "      <td>4</td>\n",
       "      <td>1140</td>\n",
       "      <td>800</td>\n",
       "      <td>1976</td>\n",
       "      <td>1992</td>\n",
       "      <td>9105 170th Ave NE</td>\n",
       "      <td>Redmond</td>\n",
       "      <td>WA 98052</td>\n",
       "    </tr>\n",
       "  </tbody>\n",
       "</table>\n",
       "</div>"
      ],
      "text/plain": [
       "       price  bedrooms  bathrooms  sqft_living  sqft_lot  floors  waterfront  \\\n",
       "0   313000.0       3.0       1.50         1340      7912     1.5           0   \n",
       "1  2384000.0       5.0       2.50         3650      9050     2.0           0   \n",
       "2   342000.0       3.0       2.00         1930     11947     1.0           0   \n",
       "3   420000.0       3.0       2.25         2000      8030     1.0           0   \n",
       "4   550000.0       4.0       2.50         1940     10500     1.0           0   \n",
       "\n",
       "   view  condition  sqft_above  sqft_basement  yr_built  yr_renovated  \\\n",
       "0     0          3        1340              0      1955          2005   \n",
       "1     4          5        3370            280      1921             0   \n",
       "2     0          4        1930              0      1966             0   \n",
       "3     0          4        1000           1000      1963             0   \n",
       "4     0          4        1140            800      1976          1992   \n",
       "\n",
       "                     street       city  statezip  \n",
       "0      18810 Densmore Ave N  Shoreline  WA 98133  \n",
       "1           709 W Blaine St    Seattle  WA 98119  \n",
       "2  26206-26214 143rd Ave SE       Kent  WA 98042  \n",
       "3           857 170th Pl NE   Bellevue  WA 98008  \n",
       "4         9105 170th Ave NE    Redmond  WA 98052  "
      ]
     },
     "execution_count": 12,
     "metadata": {},
     "output_type": "execute_result"
    }
   ],
   "source": [
    "df = df.drop(\"country\", axis=1 )\n",
    "df.head()"
   ]
  },
  {
   "cell_type": "code",
   "execution_count": 13,
   "metadata": {
    "execution": {
     "iopub.execute_input": "2024-05-25T09:53:39.667849Z",
     "iopub.status.busy": "2024-05-25T09:53:39.667423Z",
     "iopub.status.idle": "2024-05-25T09:53:39.677447Z",
     "shell.execute_reply": "2024-05-25T09:53:39.675802Z",
     "shell.execute_reply.started": "2024-05-25T09:53:39.667815Z"
    }
   },
   "outputs": [
    {
     "data": {
      "text/plain": [
       "4525"
      ]
     },
     "execution_count": 13,
     "metadata": {},
     "output_type": "execute_result"
    }
   ],
   "source": [
    "len(df[\"street\"].unique())"
   ]
  },
  {
   "cell_type": "code",
   "execution_count": 14,
   "metadata": {
    "execution": {
     "iopub.execute_input": "2024-05-25T09:53:39.679838Z",
     "iopub.status.busy": "2024-05-25T09:53:39.679414Z",
     "iopub.status.idle": "2024-05-25T09:53:39.703930Z",
     "shell.execute_reply": "2024-05-25T09:53:39.702240Z",
     "shell.execute_reply.started": "2024-05-25T09:53:39.679806Z"
    }
   },
   "outputs": [
    {
     "data": {
      "text/html": [
       "<div>\n",
       "<style scoped>\n",
       "    .dataframe tbody tr th:only-of-type {\n",
       "        vertical-align: middle;\n",
       "    }\n",
       "\n",
       "    .dataframe tbody tr th {\n",
       "        vertical-align: top;\n",
       "    }\n",
       "\n",
       "    .dataframe thead th {\n",
       "        text-align: right;\n",
       "    }\n",
       "</style>\n",
       "<table border=\"1\" class=\"dataframe\">\n",
       "  <thead>\n",
       "    <tr style=\"text-align: right;\">\n",
       "      <th></th>\n",
       "      <th>price</th>\n",
       "      <th>bedrooms</th>\n",
       "      <th>bathrooms</th>\n",
       "      <th>sqft_living</th>\n",
       "      <th>sqft_lot</th>\n",
       "      <th>floors</th>\n",
       "      <th>waterfront</th>\n",
       "      <th>view</th>\n",
       "      <th>condition</th>\n",
       "      <th>sqft_above</th>\n",
       "      <th>sqft_basement</th>\n",
       "      <th>yr_built</th>\n",
       "      <th>yr_renovated</th>\n",
       "      <th>city</th>\n",
       "      <th>statezip</th>\n",
       "    </tr>\n",
       "  </thead>\n",
       "  <tbody>\n",
       "    <tr>\n",
       "      <th>0</th>\n",
       "      <td>313000.0</td>\n",
       "      <td>3.0</td>\n",
       "      <td>1.50</td>\n",
       "      <td>1340</td>\n",
       "      <td>7912</td>\n",
       "      <td>1.5</td>\n",
       "      <td>0</td>\n",
       "      <td>0</td>\n",
       "      <td>3</td>\n",
       "      <td>1340</td>\n",
       "      <td>0</td>\n",
       "      <td>1955</td>\n",
       "      <td>2005</td>\n",
       "      <td>Shoreline</td>\n",
       "      <td>WA 98133</td>\n",
       "    </tr>\n",
       "    <tr>\n",
       "      <th>1</th>\n",
       "      <td>2384000.0</td>\n",
       "      <td>5.0</td>\n",
       "      <td>2.50</td>\n",
       "      <td>3650</td>\n",
       "      <td>9050</td>\n",
       "      <td>2.0</td>\n",
       "      <td>0</td>\n",
       "      <td>4</td>\n",
       "      <td>5</td>\n",
       "      <td>3370</td>\n",
       "      <td>280</td>\n",
       "      <td>1921</td>\n",
       "      <td>0</td>\n",
       "      <td>Seattle</td>\n",
       "      <td>WA 98119</td>\n",
       "    </tr>\n",
       "    <tr>\n",
       "      <th>2</th>\n",
       "      <td>342000.0</td>\n",
       "      <td>3.0</td>\n",
       "      <td>2.00</td>\n",
       "      <td>1930</td>\n",
       "      <td>11947</td>\n",
       "      <td>1.0</td>\n",
       "      <td>0</td>\n",
       "      <td>0</td>\n",
       "      <td>4</td>\n",
       "      <td>1930</td>\n",
       "      <td>0</td>\n",
       "      <td>1966</td>\n",
       "      <td>0</td>\n",
       "      <td>Kent</td>\n",
       "      <td>WA 98042</td>\n",
       "    </tr>\n",
       "    <tr>\n",
       "      <th>3</th>\n",
       "      <td>420000.0</td>\n",
       "      <td>3.0</td>\n",
       "      <td>2.25</td>\n",
       "      <td>2000</td>\n",
       "      <td>8030</td>\n",
       "      <td>1.0</td>\n",
       "      <td>0</td>\n",
       "      <td>0</td>\n",
       "      <td>4</td>\n",
       "      <td>1000</td>\n",
       "      <td>1000</td>\n",
       "      <td>1963</td>\n",
       "      <td>0</td>\n",
       "      <td>Bellevue</td>\n",
       "      <td>WA 98008</td>\n",
       "    </tr>\n",
       "    <tr>\n",
       "      <th>4</th>\n",
       "      <td>550000.0</td>\n",
       "      <td>4.0</td>\n",
       "      <td>2.50</td>\n",
       "      <td>1940</td>\n",
       "      <td>10500</td>\n",
       "      <td>1.0</td>\n",
       "      <td>0</td>\n",
       "      <td>0</td>\n",
       "      <td>4</td>\n",
       "      <td>1140</td>\n",
       "      <td>800</td>\n",
       "      <td>1976</td>\n",
       "      <td>1992</td>\n",
       "      <td>Redmond</td>\n",
       "      <td>WA 98052</td>\n",
       "    </tr>\n",
       "  </tbody>\n",
       "</table>\n",
       "</div>"
      ],
      "text/plain": [
       "       price  bedrooms  bathrooms  sqft_living  sqft_lot  floors  waterfront  \\\n",
       "0   313000.0       3.0       1.50         1340      7912     1.5           0   \n",
       "1  2384000.0       5.0       2.50         3650      9050     2.0           0   \n",
       "2   342000.0       3.0       2.00         1930     11947     1.0           0   \n",
       "3   420000.0       3.0       2.25         2000      8030     1.0           0   \n",
       "4   550000.0       4.0       2.50         1940     10500     1.0           0   \n",
       "\n",
       "   view  condition  sqft_above  sqft_basement  yr_built  yr_renovated  \\\n",
       "0     0          3        1340              0      1955          2005   \n",
       "1     4          5        3370            280      1921             0   \n",
       "2     0          4        1930              0      1966             0   \n",
       "3     0          4        1000           1000      1963             0   \n",
       "4     0          4        1140            800      1976          1992   \n",
       "\n",
       "        city  statezip  \n",
       "0  Shoreline  WA 98133  \n",
       "1    Seattle  WA 98119  \n",
       "2       Kent  WA 98042  \n",
       "3   Bellevue  WA 98008  \n",
       "4    Redmond  WA 98052  "
      ]
     },
     "execution_count": 14,
     "metadata": {},
     "output_type": "execute_result"
    }
   ],
   "source": [
    "df = df.drop(\"street\", axis=1 )\n",
    "df.head()"
   ]
  },
  {
   "cell_type": "code",
   "execution_count": 15,
   "metadata": {
    "execution": {
     "iopub.execute_input": "2024-05-25T09:53:39.711437Z",
     "iopub.status.busy": "2024-05-25T09:53:39.710340Z",
     "iopub.status.idle": "2024-05-25T09:53:39.720252Z",
     "shell.execute_reply": "2024-05-25T09:53:39.718680Z",
     "shell.execute_reply.started": "2024-05-25T09:53:39.711401Z"
    },
    "scrolled": true
   },
   "outputs": [
    {
     "name": "stdout",
     "output_type": "stream",
     "text": [
      "[['bedrooms' 'bathrooms' 'sqft_living']\n",
      " ['sqft_lot' 'floors' 'waterfront']\n",
      " ['view' 'condition' 'sqft_above']\n",
      " ['sqft_basement' 'yr_built' 'yr_renovated']]\n"
     ]
    }
   ],
   "source": [
    "categorical_features = [\"city\", \"statezip\"]\n",
    "continous_features = [\"bedrooms\", \"bathrooms\", \"sqft_living\", \"sqft_lot\", \"floors\", \"waterfront\", \"view\", \"condition\", \"sqft_above\", \"sqft_basement\", \"yr_built\", \"yr_renovated\"]\n",
    "continous_features_array = np.array(continous_features)\n",
    "continous_features_array = continous_features_array.reshape((4,3))\n",
    "print(continous_features_array)"
   ]
  },
  {
   "cell_type": "markdown",
   "metadata": {},
   "source": [
    "# Data visualization"
   ]
  },
  {
   "cell_type": "code",
   "execution_count": 16,
   "metadata": {
    "execution": {
     "iopub.execute_input": "2024-05-25T09:53:39.723461Z",
     "iopub.status.busy": "2024-05-25T09:53:39.723086Z",
     "iopub.status.idle": "2024-05-25T09:53:42.977288Z",
     "shell.execute_reply": "2024-05-25T09:53:42.976067Z",
     "shell.execute_reply.started": "2024-05-25T09:53:39.723425Z"
    }
   },
   "outputs": [
    {
     "data": {
      "image/png": "[encoded data removed]",
      "text/plain": [
       "<Figure size 1500x2000 with 12 Axes>"
      ]
     },
     "metadata": {},
     "output_type": "display_data"
    }
   ],
   "source": [
    "fig, axs = plt.subplots(4,3, figsize=(15,20))\n",
    "\n",
    "for i in range(0,4):\n",
    "    for j in range(0,3):\n",
    "        axs[i,j].hist(df[continous_features_array[i][j]])\n",
    "        axs[i,j].set_xlabel(continous_features_array[i][j])\n",
    "        axs[i,j].set_ylabel(\"counts\")\n",
    "        axs[i,j].set_title(continous_features_array[i][j] + \" distribution\")"
   ]
  },
  {
   "cell_type": "code",
   "execution_count": 17,
   "metadata": {
    "execution": {
     "iopub.execute_input": "2024-05-25T09:53:42.979612Z",
     "iopub.status.busy": "2024-05-25T09:53:42.978986Z",
     "iopub.status.idle": "2024-05-25T09:53:42.988237Z",
     "shell.execute_reply": "2024-05-25T09:53:42.986836Z",
     "shell.execute_reply.started": "2024-05-25T09:53:42.979577Z"
    }
   },
   "outputs": [
    {
     "data": {
      "text/plain": [
       "0    4567\n",
       "1      33\n",
       "Name: waterfront, dtype: int64"
      ]
     },
     "execution_count": 17,
     "metadata": {},
     "output_type": "execute_result"
    }
   ],
   "source": [
    "df[\"waterfront\"].value_counts()"
   ]
  },
  {
   "cell_type": "code",
   "execution_count": 18,
   "metadata": {
    "execution": {
     "iopub.execute_input": "2024-05-25T09:53:42.993628Z",
     "iopub.status.busy": "2024-05-25T09:53:42.992202Z",
     "iopub.status.idle": "2024-05-25T09:53:43.360073Z",
     "shell.execute_reply": "2024-05-25T09:53:43.358978Z",
     "shell.execute_reply.started": "2024-05-25T09:53:42.993568Z"
    }
   },
   "outputs": [
    {
     "data": {
      "text/plain": [
       "<matplotlib.collections.PathCollection at 0x1614b016190>"
      ]
     },
     "execution_count": 18,
     "metadata": {},
     "output_type": "execute_result"
    },
    {
     "data": {
      "image/png": "[encoded data removed]",
      "text/plain": [
       "<Figure size 640x480 with 1 Axes>"
      ]
     },
     "metadata": {},
     "output_type": "display_data"
    }
   ],
   "source": [
    "plt.scatter(df[\"waterfront\"], df[\"price\"])"
   ]
  },
  {
   "cell_type": "markdown",
   "metadata": {},
   "source": [
    "waterfront almost does not affect the price, so we can drop it"
   ]
  },
  {
   "cell_type": "code",
   "execution_count": 19,
   "metadata": {
    "execution": {
     "iopub.execute_input": "2024-05-25T09:53:43.362228Z",
     "iopub.status.busy": "2024-05-25T09:53:43.361515Z",
     "iopub.status.idle": "2024-05-25T09:53:43.371836Z",
     "shell.execute_reply": "2024-05-25T09:53:43.370038Z",
     "shell.execute_reply.started": "2024-05-25T09:53:43.362184Z"
    }
   },
   "outputs": [],
   "source": [
    "df = df.drop(\"waterfront\", axis=1)"
   ]
  },
  {
   "cell_type": "code",
   "execution_count": 20,
   "metadata": {
    "execution": {
     "iopub.execute_input": "2024-05-25T09:53:43.373883Z",
     "iopub.status.busy": "2024-05-25T09:53:43.373498Z",
     "iopub.status.idle": "2024-05-25T09:53:43.388948Z",
     "shell.execute_reply": "2024-05-25T09:53:43.387409Z",
     "shell.execute_reply.started": "2024-05-25T09:53:43.373851Z"
    }
   },
   "outputs": [
    {
     "data": {
      "text/plain": [
       "1.0    2174\n",
       "2.0    1811\n",
       "1.5     444\n",
       "3.0     128\n",
       "2.5      41\n",
       "3.5       2\n",
       "Name: floors, dtype: int64"
      ]
     },
     "execution_count": 20,
     "metadata": {},
     "output_type": "execute_result"
    }
   ],
   "source": [
    "df[\"floors\"].value_counts()"
   ]
  },
  {
   "cell_type": "code",
   "execution_count": 21,
   "metadata": {
    "execution": {
     "iopub.execute_input": "2024-05-25T09:53:43.390992Z",
     "iopub.status.busy": "2024-05-25T09:53:43.390555Z",
     "iopub.status.idle": "2024-05-25T09:53:43.407973Z",
     "shell.execute_reply": "2024-05-25T09:53:43.406485Z",
     "shell.execute_reply.started": "2024-05-25T09:53:43.390958Z"
    }
   },
   "outputs": [
    {
     "data": {
      "text/plain": [
       "WA 98103    148\n",
       "WA 98052    135\n",
       "WA 98117    132\n",
       "WA 98115    130\n",
       "WA 98006    110\n",
       "           ... \n",
       "WA 98047      6\n",
       "WA 98288      3\n",
       "WA 98050      2\n",
       "WA 98354      2\n",
       "WA 98068      1\n",
       "Name: statezip, Length: 77, dtype: int64"
      ]
     },
     "execution_count": 21,
     "metadata": {},
     "output_type": "execute_result"
    }
   ],
   "source": [
    "df[\"statezip\"].value_counts()"
   ]
  },
  {
   "cell_type": "code",
   "execution_count": 22,
   "metadata": {
    "execution": {
     "iopub.execute_input": "2024-05-25T09:53:43.411255Z",
     "iopub.status.busy": "2024-05-25T09:53:43.410602Z",
     "iopub.status.idle": "2024-05-25T09:53:44.228568Z",
     "shell.execute_reply": "2024-05-25T09:53:44.227041Z",
     "shell.execute_reply.started": "2024-05-25T09:53:43.411211Z"
    }
   },
   "outputs": [
    {
     "data": {
      "text/plain": [
       "<matplotlib.collections.PathCollection at 0x1614b06f460>"
      ]
     },
     "execution_count": 22,
     "metadata": {},
     "output_type": "execute_result"
    },
    {
     "data": {
      "image/png": "[encoded data removed]",
      "text/plain": [
       "<Figure size 640x480 with 1 Axes>"
      ]
     },
     "metadata": {},
     "output_type": "display_data"
    }
   ],
   "source": [
    "plt.scatter(df[\"statezip\"],df[\"price\"])"
   ]
  },
  {
   "cell_type": "code",
   "execution_count": 23,
   "metadata": {
    "execution": {
     "iopub.execute_input": "2024-05-25T09:53:44.245897Z",
     "iopub.status.busy": "2024-05-25T09:53:44.245479Z",
     "iopub.status.idle": "2024-05-25T09:53:44.258908Z",
     "shell.execute_reply": "2024-05-25T09:53:44.257057Z",
     "shell.execute_reply.started": "2024-05-25T09:53:44.245865Z"
    }
   },
   "outputs": [
    {
     "data": {
      "text/plain": [
       "Seattle                1573\n",
       "Renton                  293\n",
       "Bellevue                286\n",
       "Redmond                 235\n",
       "Issaquah                187\n",
       "Kirkland                187\n",
       "Kent                    185\n",
       "Auburn                  176\n",
       "Sammamish               175\n",
       "Federal Way             148\n",
       "Shoreline               123\n",
       "Woodinville             115\n",
       "Maple Valley             96\n",
       "Mercer Island            86\n",
       "Burien                   74\n",
       "Snoqualmie               71\n",
       "Kenmore                  66\n",
       "Des Moines               58\n",
       "North Bend               50\n",
       "Covington                43\n",
       "Duvall                   42\n",
       "Lake Forest Park         36\n",
       "Bothell                  33\n",
       "Newcastle                33\n",
       "SeaTac                   29\n",
       "Tukwila                  29\n",
       "Vashon                   29\n",
       "Enumclaw                 28\n",
       "Carnation                22\n",
       "Normandy Park            18\n",
       "Clyde Hill               11\n",
       "Medina                   11\n",
       "Fall City                11\n",
       "Black Diamond             9\n",
       "Ravensdale                7\n",
       "Pacific                   6\n",
       "Algona                    5\n",
       "Yarrow Point              4\n",
       "Skykomish                 3\n",
       "Preston                   2\n",
       "Milton                    2\n",
       "Inglewood-Finn Hill       1\n",
       "Snoqualmie Pass           1\n",
       "Beaux Arts Village        1\n",
       "Name: city, dtype: int64"
      ]
     },
     "execution_count": 23,
     "metadata": {},
     "output_type": "execute_result"
    }
   ],
   "source": [
    "df[\"city\"].value_counts()"
   ]
  },
  {
   "cell_type": "code",
   "execution_count": 24,
   "metadata": {
    "execution": {
     "iopub.execute_input": "2024-05-25T09:53:44.261343Z",
     "iopub.status.busy": "2024-05-25T09:53:44.260808Z",
     "iopub.status.idle": "2024-05-25T09:53:44.809848Z",
     "shell.execute_reply": "2024-05-25T09:53:44.808128Z",
     "shell.execute_reply.started": "2024-05-25T09:53:44.261291Z"
    }
   },
   "outputs": [
    {
     "data": {
      "text/plain": [
       "<matplotlib.collections.PathCollection at 0x1614b0ae6a0>"
      ]
     },
     "execution_count": 24,
     "metadata": {},
     "output_type": "execute_result"
    },
    {
     "data": {
      "image/png": "[encoded data removed]",
      "text/plain": [
       "<Figure size 640x480 with 1 Axes>"
      ]
     },
     "metadata": {},
     "output_type": "display_data"
    }
   ],
   "source": [
    "plt.scatter(df[\"city\"],df[\"price\"])"
   ]
  },
  {
   "cell_type": "code",
   "execution_count": 25,
   "metadata": {
    "execution": {
     "iopub.execute_input": "2024-05-25T09:53:44.822575Z",
     "iopub.status.busy": "2024-05-25T09:53:44.821933Z",
     "iopub.status.idle": "2024-05-25T09:53:44.838574Z",
     "shell.execute_reply": "2024-05-25T09:53:44.837145Z",
     "shell.execute_reply.started": "2024-05-25T09:53:44.822528Z"
    }
   },
   "outputs": [
    {
     "data": {
      "text/plain": [
       "price            0\n",
       "bedrooms         0\n",
       "bathrooms        0\n",
       "sqft_living      0\n",
       "sqft_lot         0\n",
       "floors           0\n",
       "view             0\n",
       "condition        0\n",
       "sqft_above       0\n",
       "sqft_basement    0\n",
       "yr_built         0\n",
       "yr_renovated     0\n",
       "city             0\n",
       "statezip         0\n",
       "dtype: int64"
      ]
     },
     "execution_count": 25,
     "metadata": {},
     "output_type": "execute_result"
    }
   ],
   "source": [
    "df.isna().sum()"
   ]
  },
  {
   "cell_type": "markdown",
   "metadata": {},
   "source": [
    "# Clearing outliers in the target column"
   ]
  },
  {
   "cell_type": "code",
   "execution_count": 26,
   "metadata": {
    "execution": {
     "iopub.execute_input": "2024-05-25T09:53:44.841194Z",
     "iopub.status.busy": "2024-05-25T09:53:44.840773Z",
     "iopub.status.idle": "2024-05-25T09:53:44.849947Z",
     "shell.execute_reply": "2024-05-25T09:53:44.848831Z",
     "shell.execute_reply.started": "2024-05-25T09:53:44.841161Z"
    }
   },
   "outputs": [
    {
     "data": {
      "text/plain": [
       "49"
      ]
     },
     "execution_count": 26,
     "metadata": {},
     "output_type": "execute_result"
    }
   ],
   "source": [
    "len(df[df[\"price\"]==0])"
   ]
  },
  {
   "cell_type": "code",
   "execution_count": 27,
   "metadata": {
    "execution": {
     "iopub.execute_input": "2024-05-25T09:53:44.851820Z",
     "iopub.status.busy": "2024-05-25T09:53:44.851402Z",
     "iopub.status.idle": "2024-05-25T09:53:44.864535Z",
     "shell.execute_reply": "2024-05-25T09:53:44.862955Z",
     "shell.execute_reply.started": "2024-05-25T09:53:44.851785Z"
    }
   },
   "outputs": [],
   "source": [
    "df = df[df[\"price\"]!=0]"
   ]
  },
  {
   "cell_type": "code",
   "execution_count": 28,
   "metadata": {
    "execution": {
     "iopub.execute_input": "2024-05-25T09:53:44.867261Z",
     "iopub.status.busy": "2024-05-25T09:53:44.866792Z",
     "iopub.status.idle": "2024-05-25T09:53:45.088259Z",
     "shell.execute_reply": "2024-05-25T09:53:45.086667Z",
     "shell.execute_reply.started": "2024-05-25T09:53:44.867225Z"
    }
   },
   "outputs": [
    {
     "name": "stdout",
     "output_type": "stream",
     "text": [
      "2400000.0\n",
      "995% percentile:  4530\n"
     ]
    },
    {
     "data": {
      "image/png": "[encoded data removed]",
      "text/plain": [
       "<Figure size 640x480 with 1 Axes>"
      ]
     },
     "metadata": {},
     "output_type": "display_data"
    }
   ],
   "source": [
    "plt.boxplot(df[\"price\"],showmeans=True)\n",
    "plt.ylim(0, 8e6) \n",
    "quantile995 = df[\"price\"].quantile(0.995)\n",
    "print(quantile995)\n",
    "num_values_in_995th_percentile = np.sum(df[\"price\"] <= quantile995)\n",
    "print(\"995% percentile: \", num_values_in_995th_percentile)"
   ]
  },
  {
   "cell_type": "code",
   "execution_count": 29,
   "metadata": {
    "execution": {
     "iopub.execute_input": "2024-05-25T09:53:45.091353Z",
     "iopub.status.busy": "2024-05-25T09:53:45.090276Z",
     "iopub.status.idle": "2024-05-25T09:53:45.119001Z",
     "shell.execute_reply": "2024-05-25T09:53:45.117683Z",
     "shell.execute_reply.started": "2024-05-25T09:53:45.091311Z"
    }
   },
   "outputs": [
    {
     "data": {
      "text/html": [
       "<div>\n",
       "<style scoped>\n",
       "    .dataframe tbody tr th:only-of-type {\n",
       "        vertical-align: middle;\n",
       "    }\n",
       "\n",
       "    .dataframe tbody tr th {\n",
       "        vertical-align: top;\n",
       "    }\n",
       "\n",
       "    .dataframe thead th {\n",
       "        text-align: right;\n",
       "    }\n",
       "</style>\n",
       "<table border=\"1\" class=\"dataframe\">\n",
       "  <thead>\n",
       "    <tr style=\"text-align: right;\">\n",
       "      <th></th>\n",
       "      <th>price</th>\n",
       "      <th>bedrooms</th>\n",
       "      <th>bathrooms</th>\n",
       "      <th>sqft_living</th>\n",
       "      <th>sqft_lot</th>\n",
       "      <th>floors</th>\n",
       "      <th>view</th>\n",
       "      <th>condition</th>\n",
       "      <th>sqft_above</th>\n",
       "      <th>sqft_basement</th>\n",
       "      <th>yr_built</th>\n",
       "      <th>yr_renovated</th>\n",
       "      <th>city</th>\n",
       "      <th>statezip</th>\n",
       "    </tr>\n",
       "  </thead>\n",
       "  <tbody>\n",
       "    <tr>\n",
       "      <th>0</th>\n",
       "      <td>313000.0</td>\n",
       "      <td>3.0</td>\n",
       "      <td>1.50</td>\n",
       "      <td>1340</td>\n",
       "      <td>7912</td>\n",
       "      <td>1.5</td>\n",
       "      <td>0</td>\n",
       "      <td>3</td>\n",
       "      <td>1340</td>\n",
       "      <td>0</td>\n",
       "      <td>1955</td>\n",
       "      <td>2005</td>\n",
       "      <td>Shoreline</td>\n",
       "      <td>WA 98133</td>\n",
       "    </tr>\n",
       "    <tr>\n",
       "      <th>1</th>\n",
       "      <td>2384000.0</td>\n",
       "      <td>5.0</td>\n",
       "      <td>2.50</td>\n",
       "      <td>3650</td>\n",
       "      <td>9050</td>\n",
       "      <td>2.0</td>\n",
       "      <td>4</td>\n",
       "      <td>5</td>\n",
       "      <td>3370</td>\n",
       "      <td>280</td>\n",
       "      <td>1921</td>\n",
       "      <td>0</td>\n",
       "      <td>Seattle</td>\n",
       "      <td>WA 98119</td>\n",
       "    </tr>\n",
       "    <tr>\n",
       "      <th>2</th>\n",
       "      <td>342000.0</td>\n",
       "      <td>3.0</td>\n",
       "      <td>2.00</td>\n",
       "      <td>1930</td>\n",
       "      <td>11947</td>\n",
       "      <td>1.0</td>\n",
       "      <td>0</td>\n",
       "      <td>4</td>\n",
       "      <td>1930</td>\n",
       "      <td>0</td>\n",
       "      <td>1966</td>\n",
       "      <td>0</td>\n",
       "      <td>Kent</td>\n",
       "      <td>WA 98042</td>\n",
       "    </tr>\n",
       "    <tr>\n",
       "      <th>3</th>\n",
       "      <td>420000.0</td>\n",
       "      <td>3.0</td>\n",
       "      <td>2.25</td>\n",
       "      <td>2000</td>\n",
       "      <td>8030</td>\n",
       "      <td>1.0</td>\n",
       "      <td>0</td>\n",
       "      <td>4</td>\n",
       "      <td>1000</td>\n",
       "      <td>1000</td>\n",
       "      <td>1963</td>\n",
       "      <td>0</td>\n",
       "      <td>Bellevue</td>\n",
       "      <td>WA 98008</td>\n",
       "    </tr>\n",
       "    <tr>\n",
       "      <th>4</th>\n",
       "      <td>550000.0</td>\n",
       "      <td>4.0</td>\n",
       "      <td>2.50</td>\n",
       "      <td>1940</td>\n",
       "      <td>10500</td>\n",
       "      <td>1.0</td>\n",
       "      <td>0</td>\n",
       "      <td>4</td>\n",
       "      <td>1140</td>\n",
       "      <td>800</td>\n",
       "      <td>1976</td>\n",
       "      <td>1992</td>\n",
       "      <td>Redmond</td>\n",
       "      <td>WA 98052</td>\n",
       "    </tr>\n",
       "  </tbody>\n",
       "</table>\n",
       "</div>"
      ],
      "text/plain": [
       "       price  bedrooms  bathrooms  sqft_living  sqft_lot  floors  view  \\\n",
       "0   313000.0       3.0       1.50         1340      7912     1.5     0   \n",
       "1  2384000.0       5.0       2.50         3650      9050     2.0     4   \n",
       "2   342000.0       3.0       2.00         1930     11947     1.0     0   \n",
       "3   420000.0       3.0       2.25         2000      8030     1.0     0   \n",
       "4   550000.0       4.0       2.50         1940     10500     1.0     0   \n",
       "\n",
       "   condition  sqft_above  sqft_basement  yr_built  yr_renovated       city  \\\n",
       "0          3        1340              0      1955          2005  Shoreline   \n",
       "1          5        3370            280      1921             0    Seattle   \n",
       "2          4        1930              0      1966             0       Kent   \n",
       "3          4        1000           1000      1963             0   Bellevue   \n",
       "4          4        1140            800      1976          1992    Redmond   \n",
       "\n",
       "   statezip  \n",
       "0  WA 98133  \n",
       "1  WA 98119  \n",
       "2  WA 98042  \n",
       "3  WA 98008  \n",
       "4  WA 98052  "
      ]
     },
     "execution_count": 29,
     "metadata": {},
     "output_type": "execute_result"
    }
   ],
   "source": [
    "df2 = df.copy()\n",
    "df2 = df2[df2[\"price\"] <= quantile995]\n",
    "df2.head()"
   ]
  },
  {
   "cell_type": "code",
   "execution_count": 30,
   "metadata": {
    "execution": {
     "iopub.execute_input": "2024-05-25T09:53:45.121597Z",
     "iopub.status.busy": "2024-05-25T09:53:45.120923Z",
     "iopub.status.idle": "2024-05-25T09:53:45.127542Z",
     "shell.execute_reply": "2024-05-25T09:53:45.126353Z",
     "shell.execute_reply.started": "2024-05-25T09:53:45.121523Z"
    }
   },
   "outputs": [
    {
     "name": "stdout",
     "output_type": "stream",
     "text": [
      "(4530, 14)\n"
     ]
    }
   ],
   "source": [
    "print(df2.shape)"
   ]
  },
  {
   "cell_type": "markdown",
   "metadata": {},
   "source": [
    "# Splitting the data"
   ]
  },
  {
   "cell_type": "code",
   "execution_count": 31,
   "metadata": {
    "execution": {
     "iopub.execute_input": "2024-05-25T09:53:45.130130Z",
     "iopub.status.busy": "2024-05-25T09:53:45.129193Z",
     "iopub.status.idle": "2024-05-25T09:53:45.155258Z",
     "shell.execute_reply": "2024-05-25T09:53:45.153625Z",
     "shell.execute_reply.started": "2024-05-25T09:53:45.130090Z"
    }
   },
   "outputs": [
    {
     "data": {
      "text/html": [
       "<div>\n",
       "<style scoped>\n",
       "    .dataframe tbody tr th:only-of-type {\n",
       "        vertical-align: middle;\n",
       "    }\n",
       "\n",
       "    .dataframe tbody tr th {\n",
       "        vertical-align: top;\n",
       "    }\n",
       "\n",
       "    .dataframe thead th {\n",
       "        text-align: right;\n",
       "    }\n",
       "</style>\n",
       "<table border=\"1\" class=\"dataframe\">\n",
       "  <thead>\n",
       "    <tr style=\"text-align: right;\">\n",
       "      <th></th>\n",
       "      <th>bedrooms</th>\n",
       "      <th>bathrooms</th>\n",
       "      <th>sqft_living</th>\n",
       "      <th>sqft_lot</th>\n",
       "      <th>floors</th>\n",
       "      <th>view</th>\n",
       "      <th>condition</th>\n",
       "      <th>sqft_above</th>\n",
       "      <th>sqft_basement</th>\n",
       "      <th>yr_built</th>\n",
       "      <th>yr_renovated</th>\n",
       "      <th>city</th>\n",
       "      <th>statezip</th>\n",
       "    </tr>\n",
       "  </thead>\n",
       "  <tbody>\n",
       "    <tr>\n",
       "      <th>0</th>\n",
       "      <td>3.0</td>\n",
       "      <td>1.50</td>\n",
       "      <td>1340</td>\n",
       "      <td>7912</td>\n",
       "      <td>1.5</td>\n",
       "      <td>0</td>\n",
       "      <td>3</td>\n",
       "      <td>1340</td>\n",
       "      <td>0</td>\n",
       "      <td>1955</td>\n",
       "      <td>2005</td>\n",
       "      <td>Shoreline</td>\n",
       "      <td>WA 98133</td>\n",
       "    </tr>\n",
       "    <tr>\n",
       "      <th>1</th>\n",
       "      <td>5.0</td>\n",
       "      <td>2.50</td>\n",
       "      <td>3650</td>\n",
       "      <td>9050</td>\n",
       "      <td>2.0</td>\n",
       "      <td>4</td>\n",
       "      <td>5</td>\n",
       "      <td>3370</td>\n",
       "      <td>280</td>\n",
       "      <td>1921</td>\n",
       "      <td>0</td>\n",
       "      <td>Seattle</td>\n",
       "      <td>WA 98119</td>\n",
       "    </tr>\n",
       "    <tr>\n",
       "      <th>2</th>\n",
       "      <td>3.0</td>\n",
       "      <td>2.00</td>\n",
       "      <td>1930</td>\n",
       "      <td>11947</td>\n",
       "      <td>1.0</td>\n",
       "      <td>0</td>\n",
       "      <td>4</td>\n",
       "      <td>1930</td>\n",
       "      <td>0</td>\n",
       "      <td>1966</td>\n",
       "      <td>0</td>\n",
       "      <td>Kent</td>\n",
       "      <td>WA 98042</td>\n",
       "    </tr>\n",
       "    <tr>\n",
       "      <th>3</th>\n",
       "      <td>3.0</td>\n",
       "      <td>2.25</td>\n",
       "      <td>2000</td>\n",
       "      <td>8030</td>\n",
       "      <td>1.0</td>\n",
       "      <td>0</td>\n",
       "      <td>4</td>\n",
       "      <td>1000</td>\n",
       "      <td>1000</td>\n",
       "      <td>1963</td>\n",
       "      <td>0</td>\n",
       "      <td>Bellevue</td>\n",
       "      <td>WA 98008</td>\n",
       "    </tr>\n",
       "    <tr>\n",
       "      <th>4</th>\n",
       "      <td>4.0</td>\n",
       "      <td>2.50</td>\n",
       "      <td>1940</td>\n",
       "      <td>10500</td>\n",
       "      <td>1.0</td>\n",
       "      <td>0</td>\n",
       "      <td>4</td>\n",
       "      <td>1140</td>\n",
       "      <td>800</td>\n",
       "      <td>1976</td>\n",
       "      <td>1992</td>\n",
       "      <td>Redmond</td>\n",
       "      <td>WA 98052</td>\n",
       "    </tr>\n",
       "  </tbody>\n",
       "</table>\n",
       "</div>"
      ],
      "text/plain": [
       "   bedrooms  bathrooms  sqft_living  sqft_lot  floors  view  condition  \\\n",
       "0       3.0       1.50         1340      7912     1.5     0          3   \n",
       "1       5.0       2.50         3650      9050     2.0     4          5   \n",
       "2       3.0       2.00         1930     11947     1.0     0          4   \n",
       "3       3.0       2.25         2000      8030     1.0     0          4   \n",
       "4       4.0       2.50         1940     10500     1.0     0          4   \n",
       "\n",
       "   sqft_above  sqft_basement  yr_built  yr_renovated       city  statezip  \n",
       "0        1340              0      1955          2005  Shoreline  WA 98133  \n",
       "1        3370            280      1921             0    Seattle  WA 98119  \n",
       "2        1930              0      1966             0       Kent  WA 98042  \n",
       "3        1000           1000      1963             0   Bellevue  WA 98008  \n",
       "4        1140            800      1976          1992    Redmond  WA 98052  "
      ]
     },
     "execution_count": 31,
     "metadata": {},
     "output_type": "execute_result"
    }
   ],
   "source": [
    "y = df2[\"price\"]\n",
    "x = df2.drop(\"price\", axis=1)\n",
    "x.head()"
   ]
  },
  {
   "cell_type": "code",
   "execution_count": 32,
   "metadata": {
    "execution": {
     "iopub.execute_input": "2024-05-25T09:53:45.157395Z",
     "iopub.status.busy": "2024-05-25T09:53:45.156984Z",
     "iopub.status.idle": "2024-05-25T09:53:45.172908Z",
     "shell.execute_reply": "2024-05-25T09:53:45.171008Z",
     "shell.execute_reply.started": "2024-05-25T09:53:45.157362Z"
    }
   },
   "outputs": [],
   "source": [
    "X_train, X_test, y_train, y_test = train_test_split(x, y, test_size=0.2, random_state=0)"
   ]
  },
  {
   "cell_type": "markdown",
   "metadata": {},
   "source": [
    "# Encoding and scaling"
   ]
  },
  {
   "cell_type": "code",
   "execution_count": 33,
   "metadata": {
    "execution": {
     "iopub.execute_input": "2024-05-25T09:53:45.178319Z",
     "iopub.status.busy": "2024-05-25T09:53:45.176876Z",
     "iopub.status.idle": "2024-05-25T09:53:45.187304Z",
     "shell.execute_reply": "2024-05-25T09:53:45.185833Z",
     "shell.execute_reply.started": "2024-05-25T09:53:45.178264Z"
    }
   },
   "outputs": [],
   "source": [
    "continous_features_used = [\"bedrooms\", \"bathrooms\", \"sqft_living\", \"sqft_lot\", \"floors\", \"view\", \"condition\", \"sqft_above\", \"sqft_basement\", \"yr_built\", \"yr_renovated\"]\n",
    "ct = ColumnTransformer(\n",
    "                        [(\"categoricalEncoder\", TargetEncoder(), categorical_features ),\n",
    "                       ('scaler', StandardScaler(), continous_features_used)]\n",
    "                       ,remainder=\"passthrough\")\n"
   ]
  },
  {
   "cell_type": "code",
   "execution_count": 34,
   "metadata": {
    "execution": {
     "iopub.execute_input": "2024-05-25T09:53:45.190351Z",
     "iopub.status.busy": "2024-05-25T09:53:45.189911Z",
     "iopub.status.idle": "2024-05-25T09:53:45.197093Z",
     "shell.execute_reply": "2024-05-25T09:53:45.196010Z",
     "shell.execute_reply.started": "2024-05-25T09:53:45.190320Z"
    }
   },
   "outputs": [],
   "source": [
    "pipe = Pipeline([('columnTransform', ct),('model', LinearRegression())])"
   ]
  },
  {
   "cell_type": "markdown",
   "metadata": {},
   "source": [
    "# Fine tuning the model parameters"
   ]
  },
  {
   "cell_type": "code",
   "execution_count": 38,
   "metadata": {
    "execution": {
     "iopub.execute_input": "2024-05-25T09:53:45.198658Z",
     "iopub.status.busy": "2024-05-25T09:53:45.198282Z",
     "iopub.status.idle": "2024-05-25T09:56:29.099311Z",
     "shell.execute_reply": "2024-05-25T09:56:29.097222Z",
     "shell.execute_reply.started": "2024-05-25T09:53:45.198626Z"
    }
   },
   "outputs": [],
   "source": [
    "import warnings\n",
    "param_grid = [\n",
    "    {\"model\":[LinearRegression()]},{\"model\":[ElasticNet()],\"model__alpha\":[0.001,0.1,1,10] ,\"model__max_iter\":[1000,2000,5000], \"model__l1_ratio\": np.arange(0,1.1,0.1)}]\n",
    "grid = GridSearchCV(pipe, param_grid=param_grid,return_train_score=True)\n",
    "\n",
    "\n",
    "with warnings.catch_warnings():\n",
    "    warnings.simplefilter(\"ignore\")\n",
    "    \n",
    "    grid.fit(X_train, y_train)"
   ]
  },
  {
   "cell_type": "code",
   "execution_count": 39,
   "metadata": {
    "execution": {
     "iopub.execute_input": "2024-05-25T09:56:29.114994Z",
     "iopub.status.busy": "2024-05-25T09:56:29.109549Z",
     "iopub.status.idle": "2024-05-25T09:56:29.222051Z",
     "shell.execute_reply": "2024-05-25T09:56:29.220764Z",
     "shell.execute_reply.started": "2024-05-25T09:56:29.114893Z"
    }
   },
   "outputs": [
    {
     "data": {
      "text/html": [
       "<div>\n",
       "<style scoped>\n",
       "    .dataframe tbody tr th:only-of-type {\n",
       "        vertical-align: middle;\n",
       "    }\n",
       "\n",
       "    .dataframe tbody tr th {\n",
       "        vertical-align: top;\n",
       "    }\n",
       "\n",
       "    .dataframe thead th {\n",
       "        text-align: right;\n",
       "    }\n",
       "</style>\n",
       "<table border=\"1\" class=\"dataframe\">\n",
       "  <thead>\n",
       "    <tr style=\"text-align: right;\">\n",
       "      <th></th>\n",
       "      <th>mean_fit_time</th>\n",
       "      <th>std_fit_time</th>\n",
       "      <th>mean_score_time</th>\n",
       "      <th>std_score_time</th>\n",
       "      <th>param_model</th>\n",
       "      <th>param_model__alpha</th>\n",
       "      <th>param_model__l1_ratio</th>\n",
       "      <th>param_model__max_iter</th>\n",
       "      <th>params</th>\n",
       "      <th>split0_test_score</th>\n",
       "      <th>...</th>\n",
       "      <th>mean_test_score</th>\n",
       "      <th>std_test_score</th>\n",
       "      <th>rank_test_score</th>\n",
       "      <th>split0_train_score</th>\n",
       "      <th>split1_train_score</th>\n",
       "      <th>split2_train_score</th>\n",
       "      <th>split3_train_score</th>\n",
       "      <th>split4_train_score</th>\n",
       "      <th>mean_train_score</th>\n",
       "      <th>std_train_score</th>\n",
       "    </tr>\n",
       "  </thead>\n",
       "  <tbody>\n",
       "    <tr>\n",
       "      <th>0</th>\n",
       "      <td>0.080828</td>\n",
       "      <td>0.007771</td>\n",
       "      <td>0.021825</td>\n",
       "      <td>0.005911</td>\n",
       "      <td>LinearRegression()</td>\n",
       "      <td>NaN</td>\n",
       "      <td>NaN</td>\n",
       "      <td>NaN</td>\n",
       "      <td>{'model': LinearRegression()}</td>\n",
       "      <td>0.699958</td>\n",
       "      <td>...</td>\n",
       "      <td>0.720371</td>\n",
       "      <td>0.034166</td>\n",
       "      <td>40</td>\n",
       "      <td>0.733030</td>\n",
       "      <td>0.727170</td>\n",
       "      <td>0.734210</td>\n",
       "      <td>0.742458</td>\n",
       "      <td>0.722204</td>\n",
       "      <td>0.731814</td>\n",
       "      <td>0.006847</td>\n",
       "    </tr>\n",
       "    <tr>\n",
       "      <th>1</th>\n",
       "      <td>0.152250</td>\n",
       "      <td>0.016683</td>\n",
       "      <td>0.021445</td>\n",
       "      <td>0.006611</td>\n",
       "      <td>ElasticNet(alpha=0.001, l1_ratio=0.0)</td>\n",
       "      <td>0.001</td>\n",
       "      <td>0.0</td>\n",
       "      <td>1000</td>\n",
       "      <td>{'model': ElasticNet(alpha=0.001, l1_ratio=0.0...</td>\n",
       "      <td>0.700040</td>\n",
       "      <td>...</td>\n",
       "      <td>0.720374</td>\n",
       "      <td>0.034173</td>\n",
       "      <td>1</td>\n",
       "      <td>0.733029</td>\n",
       "      <td>0.727170</td>\n",
       "      <td>0.734210</td>\n",
       "      <td>0.742458</td>\n",
       "      <td>0.722204</td>\n",
       "      <td>0.731814</td>\n",
       "      <td>0.006847</td>\n",
       "    </tr>\n",
       "    <tr>\n",
       "      <th>2</th>\n",
       "      <td>0.230309</td>\n",
       "      <td>0.012680</td>\n",
       "      <td>0.016980</td>\n",
       "      <td>0.001316</td>\n",
       "      <td>ElasticNet(alpha=0.001, l1_ratio=0.0)</td>\n",
       "      <td>0.001</td>\n",
       "      <td>0.0</td>\n",
       "      <td>2000</td>\n",
       "      <td>{'model': ElasticNet(alpha=0.001, l1_ratio=0.0...</td>\n",
       "      <td>0.700045</td>\n",
       "      <td>...</td>\n",
       "      <td>0.720373</td>\n",
       "      <td>0.034174</td>\n",
       "      <td>5</td>\n",
       "      <td>0.733029</td>\n",
       "      <td>0.727169</td>\n",
       "      <td>0.734210</td>\n",
       "      <td>0.742458</td>\n",
       "      <td>0.722204</td>\n",
       "      <td>0.731814</td>\n",
       "      <td>0.006847</td>\n",
       "    </tr>\n",
       "    <tr>\n",
       "      <th>3</th>\n",
       "      <td>0.503277</td>\n",
       "      <td>0.029844</td>\n",
       "      <td>0.018318</td>\n",
       "      <td>0.009285</td>\n",
       "      <td>ElasticNet(alpha=0.001, l1_ratio=0.0)</td>\n",
       "      <td>0.001</td>\n",
       "      <td>0.0</td>\n",
       "      <td>5000</td>\n",
       "      <td>{'model': ElasticNet(alpha=0.001, l1_ratio=0.0...</td>\n",
       "      <td>0.700045</td>\n",
       "      <td>...</td>\n",
       "      <td>0.720373</td>\n",
       "      <td>0.034174</td>\n",
       "      <td>6</td>\n",
       "      <td>0.733029</td>\n",
       "      <td>0.727169</td>\n",
       "      <td>0.734210</td>\n",
       "      <td>0.742458</td>\n",
       "      <td>0.722204</td>\n",
       "      <td>0.731814</td>\n",
       "      <td>0.006847</td>\n",
       "    </tr>\n",
       "    <tr>\n",
       "      <th>4</th>\n",
       "      <td>0.154679</td>\n",
       "      <td>0.006786</td>\n",
       "      <td>0.022737</td>\n",
       "      <td>0.007843</td>\n",
       "      <td>ElasticNet(alpha=0.001, l1_ratio=0.0)</td>\n",
       "      <td>0.001</td>\n",
       "      <td>0.1</td>\n",
       "      <td>1000</td>\n",
       "      <td>{'model': ElasticNet(alpha=0.001, l1_ratio=0.0...</td>\n",
       "      <td>0.700031</td>\n",
       "      <td>...</td>\n",
       "      <td>0.720373</td>\n",
       "      <td>0.034173</td>\n",
       "      <td>2</td>\n",
       "      <td>0.733029</td>\n",
       "      <td>0.727170</td>\n",
       "      <td>0.734210</td>\n",
       "      <td>0.742458</td>\n",
       "      <td>0.722204</td>\n",
       "      <td>0.731814</td>\n",
       "      <td>0.006847</td>\n",
       "    </tr>\n",
       "    <tr>\n",
       "      <th>...</th>\n",
       "      <td>...</td>\n",
       "      <td>...</td>\n",
       "      <td>...</td>\n",
       "      <td>...</td>\n",
       "      <td>...</td>\n",
       "      <td>...</td>\n",
       "      <td>...</td>\n",
       "      <td>...</td>\n",
       "      <td>...</td>\n",
       "      <td>...</td>\n",
       "      <td>...</td>\n",
       "      <td>...</td>\n",
       "      <td>...</td>\n",
       "      <td>...</td>\n",
       "      <td>...</td>\n",
       "      <td>...</td>\n",
       "      <td>...</td>\n",
       "      <td>...</td>\n",
       "      <td>...</td>\n",
       "      <td>...</td>\n",
       "      <td>...</td>\n",
       "    </tr>\n",
       "    <tr>\n",
       "      <th>128</th>\n",
       "      <td>0.089529</td>\n",
       "      <td>0.004973</td>\n",
       "      <td>0.016895</td>\n",
       "      <td>0.001673</td>\n",
       "      <td>ElasticNet(alpha=0.001, l1_ratio=0.0)</td>\n",
       "      <td>10</td>\n",
       "      <td>0.9</td>\n",
       "      <td>2000</td>\n",
       "      <td>{'model': ElasticNet(alpha=0.001, l1_ratio=0.0...</td>\n",
       "      <td>0.687695</td>\n",
       "      <td>...</td>\n",
       "      <td>0.677432</td>\n",
       "      <td>0.038635</td>\n",
       "      <td>104</td>\n",
       "      <td>0.689192</td>\n",
       "      <td>0.684214</td>\n",
       "      <td>0.693768</td>\n",
       "      <td>0.700950</td>\n",
       "      <td>0.679638</td>\n",
       "      <td>0.689552</td>\n",
       "      <td>0.007411</td>\n",
       "    </tr>\n",
       "    <tr>\n",
       "      <th>129</th>\n",
       "      <td>0.090026</td>\n",
       "      <td>0.009237</td>\n",
       "      <td>0.023617</td>\n",
       "      <td>0.007880</td>\n",
       "      <td>ElasticNet(alpha=0.001, l1_ratio=0.0)</td>\n",
       "      <td>10</td>\n",
       "      <td>0.9</td>\n",
       "      <td>5000</td>\n",
       "      <td>{'model': ElasticNet(alpha=0.001, l1_ratio=0.0...</td>\n",
       "      <td>0.687695</td>\n",
       "      <td>...</td>\n",
       "      <td>0.677432</td>\n",
       "      <td>0.038635</td>\n",
       "      <td>104</td>\n",
       "      <td>0.689192</td>\n",
       "      <td>0.684214</td>\n",
       "      <td>0.693768</td>\n",
       "      <td>0.700950</td>\n",
       "      <td>0.679638</td>\n",
       "      <td>0.689552</td>\n",
       "      <td>0.007411</td>\n",
       "    </tr>\n",
       "    <tr>\n",
       "      <th>130</th>\n",
       "      <td>0.158206</td>\n",
       "      <td>0.006556</td>\n",
       "      <td>0.020078</td>\n",
       "      <td>0.006705</td>\n",
       "      <td>ElasticNet(alpha=0.001, l1_ratio=0.0)</td>\n",
       "      <td>10</td>\n",
       "      <td>1.0</td>\n",
       "      <td>1000</td>\n",
       "      <td>{'model': ElasticNet(alpha=0.001, l1_ratio=0.0...</td>\n",
       "      <td>0.699968</td>\n",
       "      <td>...</td>\n",
       "      <td>0.720371</td>\n",
       "      <td>0.034169</td>\n",
       "      <td>42</td>\n",
       "      <td>0.733029</td>\n",
       "      <td>0.727170</td>\n",
       "      <td>0.734210</td>\n",
       "      <td>0.742458</td>\n",
       "      <td>0.722204</td>\n",
       "      <td>0.731814</td>\n",
       "      <td>0.006847</td>\n",
       "    </tr>\n",
       "    <tr>\n",
       "      <th>131</th>\n",
       "      <td>0.251613</td>\n",
       "      <td>0.011966</td>\n",
       "      <td>0.018123</td>\n",
       "      <td>0.004266</td>\n",
       "      <td>ElasticNet(alpha=0.001, l1_ratio=0.0)</td>\n",
       "      <td>10</td>\n",
       "      <td>1.0</td>\n",
       "      <td>2000</td>\n",
       "      <td>{'model': ElasticNet(alpha=0.001, l1_ratio=0.0...</td>\n",
       "      <td>0.699968</td>\n",
       "      <td>...</td>\n",
       "      <td>0.720371</td>\n",
       "      <td>0.034169</td>\n",
       "      <td>41</td>\n",
       "      <td>0.733029</td>\n",
       "      <td>0.727170</td>\n",
       "      <td>0.734210</td>\n",
       "      <td>0.742458</td>\n",
       "      <td>0.722204</td>\n",
       "      <td>0.731814</td>\n",
       "      <td>0.006847</td>\n",
       "    </tr>\n",
       "    <tr>\n",
       "      <th>132</th>\n",
       "      <td>0.498015</td>\n",
       "      <td>0.016911</td>\n",
       "      <td>0.023586</td>\n",
       "      <td>0.007301</td>\n",
       "      <td>ElasticNet(alpha=0.001, l1_ratio=0.0)</td>\n",
       "      <td>10</td>\n",
       "      <td>1.0</td>\n",
       "      <td>5000</td>\n",
       "      <td>{'model': ElasticNet(alpha=0.001, l1_ratio=0.0...</td>\n",
       "      <td>0.699968</td>\n",
       "      <td>...</td>\n",
       "      <td>0.720371</td>\n",
       "      <td>0.034169</td>\n",
       "      <td>42</td>\n",
       "      <td>0.733029</td>\n",
       "      <td>0.727170</td>\n",
       "      <td>0.734210</td>\n",
       "      <td>0.742458</td>\n",
       "      <td>0.722204</td>\n",
       "      <td>0.731814</td>\n",
       "      <td>0.006847</td>\n",
       "    </tr>\n",
       "  </tbody>\n",
       "</table>\n",
       "<p>133 rows × 24 columns</p>\n",
       "</div>"
      ],
      "text/plain": [
       "     mean_fit_time  std_fit_time  mean_score_time  std_score_time  \\\n",
       "0         0.080828      0.007771         0.021825        0.005911   \n",
       "1         0.152250      0.016683         0.021445        0.006611   \n",
       "2         0.230309      0.012680         0.016980        0.001316   \n",
       "3         0.503277      0.029844         0.018318        0.009285   \n",
       "4         0.154679      0.006786         0.022737        0.007843   \n",
       "..             ...           ...              ...             ...   \n",
       "128       0.089529      0.004973         0.016895        0.001673   \n",
       "129       0.090026      0.009237         0.023617        0.007880   \n",
       "130       0.158206      0.006556         0.020078        0.006705   \n",
       "131       0.251613      0.011966         0.018123        0.004266   \n",
       "132       0.498015      0.016911         0.023586        0.007301   \n",
       "\n",
       "                               param_model param_model__alpha  \\\n",
       "0                       LinearRegression()                NaN   \n",
       "1    ElasticNet(alpha=0.001, l1_ratio=0.0)              0.001   \n",
       "2    ElasticNet(alpha=0.001, l1_ratio=0.0)              0.001   \n",
       "3    ElasticNet(alpha=0.001, l1_ratio=0.0)              0.001   \n",
       "4    ElasticNet(alpha=0.001, l1_ratio=0.0)              0.001   \n",
       "..                                     ...                ...   \n",
       "128  ElasticNet(alpha=0.001, l1_ratio=0.0)                 10   \n",
       "129  ElasticNet(alpha=0.001, l1_ratio=0.0)                 10   \n",
       "130  ElasticNet(alpha=0.001, l1_ratio=0.0)                 10   \n",
       "131  ElasticNet(alpha=0.001, l1_ratio=0.0)                 10   \n",
       "132  ElasticNet(alpha=0.001, l1_ratio=0.0)                 10   \n",
       "\n",
       "    param_model__l1_ratio param_model__max_iter  \\\n",
       "0                     NaN                   NaN   \n",
       "1                     0.0                  1000   \n",
       "2                     0.0                  2000   \n",
       "3                     0.0                  5000   \n",
       "4                     0.1                  1000   \n",
       "..                    ...                   ...   \n",
       "128                   0.9                  2000   \n",
       "129                   0.9                  5000   \n",
       "130                   1.0                  1000   \n",
       "131                   1.0                  2000   \n",
       "132                   1.0                  5000   \n",
       "\n",
       "                                                params  split0_test_score  \\\n",
       "0                        {'model': LinearRegression()}           0.699958   \n",
       "1    {'model': ElasticNet(alpha=0.001, l1_ratio=0.0...           0.700040   \n",
       "2    {'model': ElasticNet(alpha=0.001, l1_ratio=0.0...           0.700045   \n",
       "3    {'model': ElasticNet(alpha=0.001, l1_ratio=0.0...           0.700045   \n",
       "4    {'model': ElasticNet(alpha=0.001, l1_ratio=0.0...           0.700031   \n",
       "..                                                 ...                ...   \n",
       "128  {'model': ElasticNet(alpha=0.001, l1_ratio=0.0...           0.687695   \n",
       "129  {'model': ElasticNet(alpha=0.001, l1_ratio=0.0...           0.687695   \n",
       "130  {'model': ElasticNet(alpha=0.001, l1_ratio=0.0...           0.699968   \n",
       "131  {'model': ElasticNet(alpha=0.001, l1_ratio=0.0...           0.699968   \n",
       "132  {'model': ElasticNet(alpha=0.001, l1_ratio=0.0...           0.699968   \n",
       "\n",
       "     ...  mean_test_score  std_test_score  rank_test_score  \\\n",
       "0    ...         0.720371        0.034166               40   \n",
       "1    ...         0.720374        0.034173                1   \n",
       "2    ...         0.720373        0.034174                5   \n",
       "3    ...         0.720373        0.034174                6   \n",
       "4    ...         0.720373        0.034173                2   \n",
       "..   ...              ...             ...              ...   \n",
       "128  ...         0.677432        0.038635              104   \n",
       "129  ...         0.677432        0.038635              104   \n",
       "130  ...         0.720371        0.034169               42   \n",
       "131  ...         0.720371        0.034169               41   \n",
       "132  ...         0.720371        0.034169               42   \n",
       "\n",
       "     split0_train_score  split1_train_score  split2_train_score  \\\n",
       "0              0.733030            0.727170            0.734210   \n",
       "1              0.733029            0.727170            0.734210   \n",
       "2              0.733029            0.727169            0.734210   \n",
       "3              0.733029            0.727169            0.734210   \n",
       "4              0.733029            0.727170            0.734210   \n",
       "..                  ...                 ...                 ...   \n",
       "128            0.689192            0.684214            0.693768   \n",
       "129            0.689192            0.684214            0.693768   \n",
       "130            0.733029            0.727170            0.734210   \n",
       "131            0.733029            0.727170            0.734210   \n",
       "132            0.733029            0.727170            0.734210   \n",
       "\n",
       "     split3_train_score  split4_train_score  mean_train_score  std_train_score  \n",
       "0              0.742458            0.722204          0.731814         0.006847  \n",
       "1              0.742458            0.722204          0.731814         0.006847  \n",
       "2              0.742458            0.722204          0.731814         0.006847  \n",
       "3              0.742458            0.722204          0.731814         0.006847  \n",
       "4              0.742458            0.722204          0.731814         0.006847  \n",
       "..                  ...                 ...               ...              ...  \n",
       "128            0.700950            0.679638          0.689552         0.007411  \n",
       "129            0.700950            0.679638          0.689552         0.007411  \n",
       "130            0.742458            0.722204          0.731814         0.006847  \n",
       "131            0.742458            0.722204          0.731814         0.006847  \n",
       "132            0.742458            0.722204          0.731814         0.006847  \n",
       "\n",
       "[133 rows x 24 columns]"
      ]
     },
     "execution_count": 39,
     "metadata": {},
     "output_type": "execute_result"
    }
   ],
   "source": [
    "pd.DataFrame(grid.cv_results_)"
   ]
  },
  {
   "cell_type": "code",
   "execution_count": 40,
   "metadata": {
    "execution": {
     "iopub.execute_input": "2024-05-25T09:56:29.224923Z",
     "iopub.status.busy": "2024-05-25T09:56:29.224085Z",
     "iopub.status.idle": "2024-05-25T09:56:29.236308Z",
     "shell.execute_reply": "2024-05-25T09:56:29.234833Z",
     "shell.execute_reply.started": "2024-05-25T09:56:29.224873Z"
    }
   },
   "outputs": [
    {
     "data": {
      "text/plain": [
       "array([0.73181426, 0.73181405, 0.73181401, 0.73181401, 0.73181409,\n",
       "       0.73181406, 0.73181405, 0.73181413, 0.73181411, 0.7318141 ,\n",
       "       0.73181417, 0.73181414, 0.73181413, 0.73181419, 0.73181418,\n",
       "       0.73181417, 0.73181421, 0.7318142 , 0.7318142 , 0.73181423,\n",
       "       0.73181423, 0.73181422, 0.73181424, 0.73181424, 0.73181424,\n",
       "       0.73181425, 0.73181425, 0.73181425, 0.73181426, 0.73181426,\n",
       "       0.73181426, 0.73181426, 0.73181426, 0.73181426, 0.7300113 ,\n",
       "       0.7300113 , 0.7300113 , 0.73030983, 0.73030983, 0.73030983,\n",
       "       0.73058888, 0.73058888, 0.73058888, 0.73084642, 0.73084642,\n",
       "       0.73084642, 0.73108016, 0.73108016, 0.73108016, 0.73128753,\n",
       "       0.73128753, 0.73128753, 0.73146566, 0.73146566, 0.73146566,\n",
       "       0.7316113 , 0.7316113 , 0.7316113 , 0.73172081, 0.73172081,\n",
       "       0.73172081, 0.73179003, 0.73179003, 0.73179003, 0.73181426,\n",
       "       0.73181426, 0.73181426, 0.68956461, 0.68956461, 0.68956461,\n",
       "       0.69389899, 0.69389899, 0.69389899, 0.69835037, 0.69835037,\n",
       "       0.69835037, 0.7029146 , 0.7029146 , 0.7029146 , 0.70758106,\n",
       "       0.70758106, 0.70758106, 0.71232706, 0.71232706, 0.71232706,\n",
       "       0.71710633, 0.71710633, 0.71710633, 0.7218244 , 0.7218244 ,\n",
       "       0.7218244 , 0.72628016, 0.72628016, 0.72628016, 0.73001066,\n",
       "       0.73001066, 0.73001066, 0.73181426, 0.73181426, 0.73181426,\n",
       "       0.52933328, 0.52933328, 0.52933328, 0.53702531, 0.53702531,\n",
       "       0.53702531, 0.54591277, 0.54591277, 0.54591277, 0.55629373,\n",
       "       0.55629373, 0.55629373, 0.56857212, 0.56857212, 0.56857212,\n",
       "       0.58330763, 0.58330763, 0.58330763, 0.60129551, 0.60129551,\n",
       "       0.60129551, 0.62369564, 0.62369564, 0.62369564, 0.65224503,\n",
       "       0.65224503, 0.65224503, 0.68955243, 0.68955243, 0.68955243,\n",
       "       0.73181424, 0.73181424, 0.73181424])"
      ]
     },
     "execution_count": 40,
     "metadata": {},
     "output_type": "execute_result"
    }
   ],
   "source": [
    "grid.cv_results_[\"mean_train_score\"]"
   ]
  },
  {
   "cell_type": "code",
   "execution_count": 41,
   "metadata": {
    "execution": {
     "iopub.execute_input": "2024-05-25T09:56:29.240023Z",
     "iopub.status.busy": "2024-05-25T09:56:29.239189Z",
     "iopub.status.idle": "2024-05-25T09:56:29.287655Z",
     "shell.execute_reply": "2024-05-25T09:56:29.286360Z",
     "shell.execute_reply.started": "2024-05-25T09:56:29.239959Z"
    }
   },
   "outputs": [
    {
     "name": "stdout",
     "output_type": "stream",
     "text": [
      "Train score:  0.7348634442491101\n",
      "Test score:  0.7363093728840101\n"
     ]
    }
   ],
   "source": [
    "print(\"Train score: \", grid.score(X_train, y_train))\n",
    "print(\"Test score: \", grid.score(X_test,y_test))"
   ]
  },
  {
   "cell_type": "code",
   "execution_count": 42,
   "metadata": {
    "execution": {
     "iopub.execute_input": "2024-05-25T09:56:29.290318Z",
     "iopub.status.busy": "2024-05-25T09:56:29.289450Z",
     "iopub.status.idle": "2024-05-25T09:56:29.306278Z",
     "shell.execute_reply": "2024-05-25T09:56:29.303777Z",
     "shell.execute_reply.started": "2024-05-25T09:56:29.290269Z"
    }
   },
   "outputs": [
    {
     "data": {
      "text/plain": [
       "{'model': ElasticNet(alpha=0.001, l1_ratio=0.0),\n",
       " 'model__alpha': 0.001,\n",
       " 'model__l1_ratio': 0.0,\n",
       " 'model__max_iter': 1000}"
      ]
     },
     "execution_count": 42,
     "metadata": {},
     "output_type": "execute_result"
    }
   ],
   "source": [
    "grid.best_params_"
   ]
  },
  {
   "cell_type": "markdown",
   "metadata": {},
   "source": [
    "# Final model"
   ]
  },
  {
   "cell_type": "code",
   "execution_count": 43,
   "metadata": {
    "execution": {
     "iopub.execute_input": "2024-05-25T09:57:52.385000Z",
     "iopub.status.busy": "2024-05-25T09:57:52.384536Z",
     "iopub.status.idle": "2024-05-25T09:57:52.569692Z",
     "shell.execute_reply": "2024-05-25T09:57:52.568195Z",
     "shell.execute_reply.started": "2024-05-25T09:57:52.384968Z"
    }
   },
   "outputs": [
    {
     "name": "stdout",
     "output_type": "stream",
     "text": [
      "Train score:  0.7348634442491101\n",
      "Test score:  0.7363093728840101\n"
     ]
    },
    {
     "name": "stderr",
     "output_type": "stream",
     "text": [
      "C:\\Users\\lenovo\\anaconda3\\lib\\site-packages\\sklearn\\linear_model\\_coordinate_descent.py:647: ConvergenceWarning: Objective did not converge. You might want to increase the number of iterations, check the scale of the features or consider increasing regularisation. Duality gap: 4.961e+13, tolerance: 3.739e+10 Linear regression models with null weight for the l1 regularization term are more efficiently fitted using one of the solvers implemented in sklearn.linear_model.Ridge/RidgeCV instead.\n",
      "  model = cd_fast.enet_coordinate_descent(\n"
     ]
    }
   ],
   "source": [
    "pipe_final_model = Pipeline([('columnTransform', ct), ('model', ElasticNet(alpha=0.001, l1_ratio=0.0,max_iter=1000))])\n",
    "pipe_final_model.fit(X_train,y_train)\n",
    "print(\"Train score: \", pipe_final_model.score(X_train, y_train))\n",
    "print(\"Test score: \", pipe_final_model.score(X_test,y_test))"
   ]
  },
  {
   "cell_type": "code",
   "execution_count": 44,
   "metadata": {
    "execution": {
     "iopub.execute_input": "2024-05-25T09:58:08.869883Z",
     "iopub.status.busy": "2024-05-25T09:58:08.869377Z",
     "iopub.status.idle": "2024-05-25T09:58:08.888229Z",
     "shell.execute_reply": "2024-05-25T09:58:08.886841Z",
     "shell.execute_reply.started": "2024-05-25T09:58:08.869846Z"
    }
   },
   "outputs": [
    {
     "name": "stdout",
     "output_type": "stream",
     "text": [
      "actual:  545000.0\n",
      "pred:  [606156.71836484]\n"
     ]
    }
   ],
   "source": [
    "print(\"actual: \",y_test.iloc[4])\n",
    "print(\"pred: \", pipe_final_model.predict(X_test.iloc[[4]]))"
   ]
  },
  {
   "cell_type": "markdown",
   "metadata": {},
   "source": [
    "All possible models almost give the same accuracy between 0.69 to 0.73"
   ]
  }
 ],
 "metadata": {
  "kaggle": {
   "accelerator": "none",
   "dataSources": [
    {
     "datasetId": 46927,
     "sourceId": 85203,
     "sourceType": "datasetVersion"
    }
   ],
   "dockerImageVersionId": 30698,
   "isGpuEnabled": false,
   "isInternetEnabled": true,
   "language": "python",
   "sourceType": "notebook"
  },
  "kernelspec": {
   "display_name": "Python 3 (ipykernel)",
   "language": "python",
   "name": "python3"
  },
  "language_info": {
   "codemirror_mode": {
    "name": "ipython",
    "version": 3
   },
   "file_extension": ".py",
   "mimetype": "text/x-python",
   "name": "python",
   "nbconvert_exporter": "python",
   "pygments_lexer": "ipython3",
   "version": "3.9.13"
  }
 },
 "nbformat": 4,
 "nbformat_minor": 4
}
